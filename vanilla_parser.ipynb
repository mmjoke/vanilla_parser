{
 "cells": [
  {
   "cell_type": "code",
   "execution_count": 1,
   "metadata": {
    "deletable": false,
    "nbgrader": {
     "cell_type": "code",
     "checksum": "763c9b123c61d02adcf8e688c14b824e",
     "grade": false,
     "grade_id": "cell-a1d057ec06e84bdd",
     "locked": false,
     "schema_version": 3,
     "solution": true,
     "task": false
    }
   },
   "outputs": [],
   "source": [
    "from typing import List\n",
    "import requests\n",
    "import pandas as pd\n",
    "import numpy as np\n",
    "from bs4 import BeautifulSoup\n",
    "from fake_useragent import UserAgent\n",
    "\n"
   ]
  },
  {
   "cell_type": "markdown",
   "metadata": {},
   "source": [
    "\n",
    "### 1. Сбор ссылок на книги"
   ]
  },
  {
   "cell_type": "code",
   "execution_count": 4,
   "metadata": {
    "deletable": false,
    "nbgrader": {
     "cell_type": "code",
     "checksum": "9c97f15308c26fba4787e1ed46be1762",
     "grade": false,
     "grade_id": "cell-bb3dd3de95e8b98e",
     "locked": false,
     "schema_version": 3,
     "solution": true,
     "task": false
    }
   },
   "outputs": [],
   "source": [
    "def get_page_soup(url_link):\n",
    "    \n",
    "    response = requests.get(url=url_link, headers={'User-Agent': UserAgent().chrome})\n",
    "    \n",
    "    if not response.ok:\n",
    "        return []\n",
    "    \n",
    "    html = response.content\n",
    "    \n",
    "    soup = BeautifulSoup(html, 'html.parser')\n",
    "    \n",
    "    return soup"
   ]
  },
  {
   "cell_type": "code",
   "execution_count": 5,
   "metadata": {},
   "outputs": [
    {
     "data": {
      "text/plain": [
       "'Books to Scrape'"
      ]
     },
     "execution_count": 5,
     "metadata": {},
     "output_type": "execute_result"
    }
   ],
   "source": [
    "main_url = 'http://books.toscrape.com/catalogue/'\n",
    "page_number = 5\n",
    "\n",
    "soup = get_page_soup(main_url + f'page-{page_number}.html')\n",
    "soup.find_all('a')[0].text"
   ]
  },
  {
   "cell_type": "code",
   "execution_count": 6,
   "metadata": {
    "deletable": false,
    "nbgrader": {
     "cell_type": "code",
     "checksum": "f2bcfb757d246472754f42327e7f193d",
     "grade": false,
     "grade_id": "cell-565bf344d89fef43",
     "locked": false,
     "schema_version": 3,
     "solution": true,
     "task": false
    }
   },
   "outputs": [],
   "source": [
    "def get_book_links(page_soup) -> List[str]:\n",
    "\n",
    "    book_links_obj = page_soup.findAll('h3')\n",
    "    \n",
    "    books_links = [book_obj.a.attrs['href'] for book_obj in book_links_obj]\n",
    "    \n",
    "    return books_links"
   ]
  },
  {
   "cell_type": "code",
   "execution_count": 7,
   "metadata": {
    "deletable": false,
    "nbgrader": {
     "cell_type": "code",
     "checksum": "25cc39adb04c7c00c5e117837d9c606d",
     "grade": false,
     "grade_id": "cell-883211fab847e672",
     "locked": false,
     "schema_version": 3,
     "solution": true,
     "task": false
    }
   },
   "outputs": [],
   "source": [
    "book_links = []\n",
    "\n",
    "main_url = 'http://books.toscrape.com/catalogue/'\n",
    "page_number = 10\n",
    "\n",
    "for page in range(1, page_number + 1):\n",
    "    page_soup = get_page_soup(main_url + f'page-{page}.html')\n",
    "    \n",
    "    page_book_links = get_book_links(page_soup)\n",
    "    book_links += page_book_links\n"
   ]
  },
  {
   "cell_type": "markdown",
   "metadata": {},
   "source": [
    "### 2. Сбор информации о книгах "
   ]
  },
  {
   "cell_type": "code",
   "execution_count": 36,
   "metadata": {
    "deletable": false,
    "nbgrader": {
     "cell_type": "code",
     "checksum": "defea54e7bc7d4545e27bbd019f41ae2",
     "grade": false,
     "grade_id": "cell-a3b3b4c91addb471",
     "locked": false,
     "schema_version": 3,
     "solution": true,
     "task": false
    }
   },
   "outputs": [],
   "source": [
    "def getBookName(soup):\n",
    "    \n",
    "    obj_with_name = soup.find('div', attrs={'class': {'col-sm-6 product_main'}}).h1\n",
    "    book_name = \"\" if not obj_with_name else obj_with_name.text\n",
    "    \n",
    "    return book_name\n",
    "\n",
    "def getBookRating(soup):\n",
    "    \n",
    "    rating_dict_convert = {\n",
    "        \"One\": 1,\n",
    "        \"Two\": 2,\n",
    "        \"Three\": 3,\n",
    "        \"Four\": 4,\n",
    "        \"Five\": 5\n",
    "    }\n",
    "    \n",
    "    \n",
    "    obj_with_rating = soup.find('p', attrs={'class': {'star-rating'}})\n",
    "    class_name_str = \"\" if not obj_with_rating else obj_with_rating.attrs['class']\n",
    "    rating_str = class_name_str[-1]\n",
    "    rating = rating_dict_convert[rating_str]\n",
    "    \n",
    "    return rating\n",
    "\n",
    "def getBookDescription(soup):\n",
    "    \n",
    "    obj_with_description = soup.find('div', attrs={'id': {'product_description'}})\n",
    "    description = \"\" if not obj_with_description else obj_with_description.find_next('p').text\n",
    "    \n",
    "    return description\n",
    "\n",
    "def getBookInformation(soup):\n",
    "    \n",
    "    table_soup = soup.find_all('table', attrs={'class': 'table'})\n",
    "    df = pd.read_html(str(table_soup))[0][1]\n",
    "    \n",
    "    book_upc = df[0]\n",
    "    book_type = df[1]\n",
    "    book_price_without_tax = df[2][1:]\n",
    "    book_price_with_tax = df[3][1:]\n",
    "    book_tax = df[4][1:]\n",
    "    book_availability = df[5]\n",
    "    book_num_reviews = df[6]\n",
    "\n",
    "    return book_upc, book_type, book_price_with_tax, book_price_without_tax, book_tax, book_availability, book_num_reviews\n"
   ]
  },
  {
   "cell_type": "code",
   "execution_count": 30,
   "metadata": {},
   "outputs": [],
   "source": [
    "def getBookData(book_page):\n",
    "    \n",
    "    response = requests.get(book_page, headers={'User-Agent': UserAgent().chrome})\n",
    "    \n",
    "    if not response.ok:\n",
    "        return response.status_code\n",
    "    \n",
    "    html = response.content\n",
    "    soup = BeautifulSoup(html,'html.parser')\n",
    "    \n",
    "    \n",
    "    book_name = getBookName(soup)\n",
    "    book_rating = getBookRating(soup)\n",
    "    book_description = getBookDescription(soup)\n",
    "    \n",
    "    book_upc, book_type, book_price_with_tax, book_price_without_tax, book_tax, book_availability, book_num_reviews = getBookInformation(soup)\n",
    "    \n",
    "    data_row = {\"name\": book_name, \"rating\": book_rating,\n",
    "                \"description\": book_description, \"upc\": book_upc,\n",
    "                \"type\": book_type, \"price_no_tax\": book_price_without_tax,\n",
    "                \"price\": book_price_with_tax, \"tax\": book_tax,\n",
    "                \"availability\": book_availability, \"reviews_count\": book_num_reviews}\n",
    "\n",
    "    return data_row"
   ]
  },
  {
   "cell_type": "code",
   "execution_count": null,
   "metadata": {},
   "outputs": [],
   "source": [
    "test_url = 'https://books.toscrape.com/catalogue/a-light-in-the-attic_1000/index.html'\n",
    "\n",
    "soup = get_page_soup(test_url)\n",
    "\n",
    "book_name = getBookName(soup)\n",
    "book_rating = getBookRating(soup)\n",
    "book_description = getBookDescription(soup)\n",
    "\n",
    "print(book_name)\n",
    "print(book_rating)\n",
    "print(book_description[:50] + \"...\")"
   ]
  },
  {
   "cell_type": "code",
   "execution_count": 37,
   "metadata": {
    "deletable": false,
    "nbgrader": {
     "cell_type": "code",
     "checksum": "418e8b0cadc167a34bd0937d72934bb4",
     "grade": false,
     "grade_id": "cell-240b7f956c433b45",
     "locked": false,
     "schema_version": 3,
     "solution": true,
     "task": false
    }
   },
   "outputs": [],
   "source": [
    "book_links = []\n",
    "\n",
    "main_url = 'http://books.toscrape.com/catalogue/'\n",
    "page_number = 2\n",
    "\n",
    "for page in range(1, page_number + 1):\n",
    "    page_soup = get_page_soup(main_url + f'page-{page}.html')\n",
    "    \n",
    "    page_book_links = get_book_links(page_soup)\n",
    "    book_links += page_book_links\n",
    "\n",
    "\n",
    "book_info = []\n",
    "\n",
    "for book_link in book_links:\n",
    "    data_row = getBookData(main_url + book_link)\n",
    "    book_info.append(data_row)\n"
   ]
  },
  {
   "cell_type": "markdown",
   "metadata": {},
   "source": [
    "### 3. Созадние DataFrame из полученной информации"
   ]
  },
  {
   "cell_type": "code",
   "execution_count": null,
   "metadata": {},
   "outputs": [],
   "source": [
    "book_info_df = pd.DataFrame(book_info)\n",
    "print(book_info_df.shape)\n",
    "book_info_df.head(10) "
   ]
  },
  {
   "cell_type": "code",
   "execution_count": 66,
   "metadata": {},
   "outputs": [],
   "source": [
    "import re"
   ]
  },
  {
   "cell_type": "code",
   "execution_count": 67,
   "metadata": {},
   "outputs": [],
   "source": [
    "book_info_df['availability'] = book_info_df['availability'].apply(lambda x: re.search('\\d+', x).group(0))"
   ]
  },
  {
   "cell_type": "code",
   "execution_count": 68,
   "metadata": {},
   "outputs": [
    {
     "data": {
      "text/html": [
       "<div>\n",
       "<style scoped>\n",
       "    .dataframe tbody tr th:only-of-type {\n",
       "        vertical-align: middle;\n",
       "    }\n",
       "\n",
       "    .dataframe tbody tr th {\n",
       "        vertical-align: top;\n",
       "    }\n",
       "\n",
       "    .dataframe thead th {\n",
       "        text-align: right;\n",
       "    }\n",
       "</style>\n",
       "<table border=\"1\" class=\"dataframe\">\n",
       "  <thead>\n",
       "    <tr style=\"text-align: right;\">\n",
       "      <th></th>\n",
       "      <th>name</th>\n",
       "      <th>rating</th>\n",
       "      <th>description</th>\n",
       "      <th>upc</th>\n",
       "      <th>type</th>\n",
       "      <th>price_no_tax</th>\n",
       "      <th>price</th>\n",
       "      <th>tax</th>\n",
       "      <th>availability</th>\n",
       "      <th>reviews_count</th>\n",
       "    </tr>\n",
       "  </thead>\n",
       "  <tbody>\n",
       "    <tr>\n",
       "      <th>24</th>\n",
       "      <td>Black Dust</td>\n",
       "      <td>5</td>\n",
       "      <td>No matter how busy he keeps himself, successfu...</td>\n",
       "      <td>00bfed9e18bb36f3</td>\n",
       "      <td>Books</td>\n",
       "      <td>34.53</td>\n",
       "      <td>34.53</td>\n",
       "      <td>0.00</td>\n",
       "      <td>19</td>\n",
       "      <td>0</td>\n",
       "    </tr>\n",
       "    <tr>\n",
       "      <th>5</th>\n",
       "      <td>The Requiem Red</td>\n",
       "      <td>1</td>\n",
       "      <td>Patient Twenty-nine.A monster roams the halls ...</td>\n",
       "      <td>f77dbf2323deb740</td>\n",
       "      <td>Books</td>\n",
       "      <td>22.65</td>\n",
       "      <td>22.65</td>\n",
       "      <td>0.00</td>\n",
       "      <td>19</td>\n",
       "      <td>0</td>\n",
       "    </tr>\n",
       "    <tr>\n",
       "      <th>21</th>\n",
       "      <td>How Music Works</td>\n",
       "      <td>2</td>\n",
       "      <td>How Music Works is David Byrne’s remarkable an...</td>\n",
       "      <td>327f68a59745c102</td>\n",
       "      <td>Books</td>\n",
       "      <td>37.32</td>\n",
       "      <td>37.32</td>\n",
       "      <td>0.00</td>\n",
       "      <td>19</td>\n",
       "      <td>0</td>\n",
       "    </tr>\n",
       "  </tbody>\n",
       "</table>\n",
       "</div>"
      ],
      "text/plain": [
       "               name  rating  \\\n",
       "24       Black Dust       5   \n",
       "5   The Requiem Red       1   \n",
       "21  How Music Works       2   \n",
       "\n",
       "                                          description               upc  \\\n",
       "24  No matter how busy he keeps himself, successfu...  00bfed9e18bb36f3   \n",
       "5   Patient Twenty-nine.A monster roams the halls ...  f77dbf2323deb740   \n",
       "21  How Music Works is David Byrne’s remarkable an...  327f68a59745c102   \n",
       "\n",
       "     type price_no_tax  price   tax availability reviews_count  \n",
       "24  Books        34.53  34.53  0.00           19             0  \n",
       "5   Books        22.65  22.65  0.00           19             0  \n",
       "21  Books        37.32  37.32  0.00           19             0  "
      ]
     },
     "execution_count": 68,
     "metadata": {},
     "output_type": "execute_result"
    }
   ],
   "source": [
    "book_info_df.sample(3)"
   ]
  },
  {
   "cell_type": "code",
   "execution_count": 74,
   "metadata": {},
   "outputs": [],
   "source": [
    "book_info_df[['price_no_tax', 'price', 'tax', 'availability', 'reviews_count']] = book_info_df[['price_no_tax', 'price', 'tax', 'availability', 'reviews_count']].astype('float64')"
   ]
  },
  {
   "cell_type": "code",
   "execution_count": null,
   "metadata": {},
   "outputs": [],
   "source": [
    "book_info_df.info()"
   ]
  },
  {
   "cell_type": "code",
   "execution_count": 77,
   "metadata": {
    "deletable": false,
    "nbgrader": {
     "cell_type": "code",
     "checksum": "0a54c60fbbab43a250f22bba8ae6f62d",
     "grade": false,
     "grade_id": "cell-818d91b73f034e1a",
     "locked": false,
     "schema_version": 3,
     "solution": true,
     "task": false
    }
   },
   "outputs": [
    {
     "data": {
      "text/plain": [
       "0"
      ]
     },
     "execution_count": 77,
     "metadata": {},
     "output_type": "execute_result"
    }
   ],
   "source": [
    "ans1 = book_info_df[book_info_df['description'] == \"\"].shape[0]\n",
    "ans2 = book_info_df[book_info_df['tax'] > 0].shape[0]\n",
    "ans3 = book_info_df[book_info_df['rating'] == 5].shape[0]\\   \n",
    "ans4 = book_info_df['price_no_tax'].mean()"
   ]
  }
 ],
 "metadata": {
  "kernelspec": {
   "display_name": "Python 3",
   "language": "python",
   "name": "python3"
  },
  "language_info": {
   "codemirror_mode": {
    "name": "ipython",
    "version": 3
   },
   "file_extension": ".py",
   "mimetype": "text/x-python",
   "name": "python",
   "nbconvert_exporter": "python",
   "pygments_lexer": "ipython3",
   "version": "3.11.2"
  },
  "varInspector": {
   "cols": {
    "lenName": 16,
    "lenType": 16,
    "lenVar": 40
   },
   "kernels_config": {
    "python": {
     "delete_cmd_postfix": "",
     "delete_cmd_prefix": "del ",
     "library": "var_list.py",
     "varRefreshCmd": "print(var_dic_list())"
    },
    "r": {
     "delete_cmd_postfix": ") ",
     "delete_cmd_prefix": "rm(",
     "library": "var_list.r",
     "varRefreshCmd": "cat(var_dic_list()) "
    }
   },
   "types_to_exclude": [
    "module",
    "function",
    "builtin_function_or_method",
    "instance",
    "_Feature"
   ],
   "window_display": false
  }
 },
 "nbformat": 4,
 "nbformat_minor": 2
}
